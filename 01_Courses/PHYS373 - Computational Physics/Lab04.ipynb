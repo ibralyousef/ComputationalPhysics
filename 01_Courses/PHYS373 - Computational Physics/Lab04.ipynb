{
 "cells": [
  {
   "cell_type": "markdown",
   "metadata": {},
   "source": [
    "# Ibraheem Al-Yousef\n",
    "# PHYS373 Lab04"
   ]
  },
  {
   "cell_type": "markdown",
   "metadata": {},
   "source": [
    "# Definitions for Q1"
   ]
  },
  {
   "cell_type": "code",
   "execution_count": null,
   "metadata": {},
   "outputs": [],
   "source": [
    "import numpy as np\n",
    "import matplotlib.pyplot as plt\n",
    "def my_bisection(f, a, b, tol):\n",
    "    n=0\n",
    "    h=a\n",
    "    d=b\n",
    "    s=True\n",
    "    while s:\n",
    "        if np.sign(f(a)) == np.sign(f(b)):\n",
    "            print(\"The scalars a and b do not bound a root\")\n",
    "            break\n",
    "        m = (a + b)/2\n",
    "        c=(a + b)/2\n",
    "        if np.sign(f(a)) == np.sign(f(m)):\n",
    "            n+=1\n",
    "            a = m\n",
    "        elif np.sign(f(b)) == np.sign(f(m)):\n",
    "            n+=1\n",
    "            b = m\n",
    "        s = not np.abs(f(m)) < tol\n",
    "    fig = plt.figure()\n",
    "    x = np.linspace(-10, 10, 100000)\n",
    "    y = f(x)\n",
    "\n",
    "    ax = fig.add_subplot(111)\n",
    "    ax.set_title('The bisection method')\n",
    "    ax.plot(x, y,'k', label = 'The function')\n",
    "    ax.spines['left'].set_position('zero')\n",
    "    ax.spines['right'].set_color('none')\n",
    "    ax.spines['bottom'].set_position('zero')\n",
    "    ax.spines['top'].set_color('none')\n",
    "    ax.plot([m], 0, marker=\"o\", markersize=7, markeredgecolor=\"r\", markerfacecolor=\"k\",label=\"The zero\")\n",
    "    ax.set_ylim((-20,20))\n",
    "    ax.legend()\n",
    "    # remove the ticks from the top and right edges\n",
    "    ax.xaxis.set_ticks_position('bottom')\n",
    "    ax.yaxis.set_ticks_position('left')\n",
    "    print(\"The zero is %.13f after %i iterations. With error less than %.13f\" %(m, n, tol))\n"
   ]
  },
  {
   "cell_type": "markdown",
   "metadata": {},
   "source": [
    "# Q1"
   ]
  },
  {
   "cell_type": "markdown",
   "metadata": {},
   "source": [
    "### Part a):"
   ]
  },
  {
   "cell_type": "code",
   "execution_count": null,
   "metadata": {},
   "outputs": [],
   "source": [
    "def newton(x0, tol):\n",
    "    n=0\n",
    "    print('x_k    f(x_k)    f\"'\"(x_k)   f(x_k)/f\"'\"(x_k)')\n",
    "    while True:\n",
    "        n+=1\n",
    "        x1 = x0 - f(x0)/derivative(x0)\n",
    "        print('%.13f    %.13f    %.13f   %.13f'%(x0, f(x0),derivative(x0),f(x0)/derivative(x0)))\n",
    "        if abs(x1-x0) < tol:\n",
    "            return print('After %i iterations, the solution is %.13f'%(n,x1))\n",
    "        x0 = x1\n",
    "        \n",
    "def f(x):\n",
    "    return x-np.cos(x)\n",
    "def derivative(x):\n",
    "    return 1+np.sin(x)\n",
    "x0 = 0.8\n",
    "tol = 10**-13\n",
    "newton(x0, tol)"
   ]
  },
  {
   "cell_type": "markdown",
   "metadata": {},
   "source": [
    "### Part c):"
   ]
  },
  {
   "cell_type": "code",
   "execution_count": null,
   "metadata": {},
   "outputs": [],
   "source": [
    "def f(x):\n",
    "    return x-np.cos(x)\n",
    "def derivative(x):\n",
    "    return 1+np.sin(x)\n",
    "x0 = 0.8\n",
    "tol = 10**-13\n",
    "def secant(x0,x1, tol):\n",
    "    print('    x_(i+1)           f(x_(i+1))   f(x_(i))*(x_i-x_(i-1))/(f(x_i)-f(x_(i-1)))')\n",
    "    n=0\n",
    "    while True:\n",
    "        n+=1\n",
    "        x2 = x1 - f(x1)*(x1-x0)/(f(x1)-f(x0))\n",
    "        print('%.13f    %.13f    %.13f'%(x2, f(x2),f(x1)*(x1-x0)/(f(x1)-f(x0))))\n",
    "        if abs(x2-x1) < tol:\n",
    "            return print('After %i iterations, the solution is %.13f'%(n,x1))\n",
    "        x1 = x2\n",
    "secant(0.6,x0,tol)"
   ]
  },
  {
   "cell_type": "markdown",
   "metadata": {},
   "source": [
    "### Part b):"
   ]
  },
  {
   "cell_type": "code",
   "execution_count": null,
   "metadata": {},
   "outputs": [],
   "source": [
    "a= 0.6\n",
    "b= 0.8\n",
    "tol=10**-13\n",
    "my_bisection(lambda x: x-np.cos(x),a,b ,tol )"
   ]
  },
  {
   "cell_type": "markdown",
   "metadata": {},
   "source": [
    "## Newton method is the most efficient method, it took 4 iterations, however it requires us to know the derivative of the function. Next one is the secant method, which took 9 iterations, which is a dicretation of the derivative, but it requires two points initially. Finally, the bisection takes the highest number of iterations, 37!, which is the poorer."
   ]
  },
  {
   "cell_type": "markdown",
   "metadata": {},
   "source": [
    "|   **Method**  \t| **Number of iterations** \t| **Efficiency with $10^{-13}$ accuracy** \t|\n",
    "|:-------------:\t|:------------------------:\t|:-------------:\t|\n",
    "|   Newton  \t|             4            \t|      Best     \t|\n",
    "|   Secant \t|             9            \t|      Good     \t|\n",
    "| Bisection \t|            37            \t|      Poor     \t|"
   ]
  },
  {
   "cell_type": "markdown",
   "metadata": {},
   "source": [
    "# Q2"
   ]
  },
  {
   "cell_type": "markdown",
   "metadata": {},
   "source": [
    "### Part a):"
   ]
  },
  {
   "cell_type": "code",
   "execution_count": null,
   "metadata": {},
   "outputs": [],
   "source": [
    "def newton1(x0, tol,f,ff):\n",
    "    n=0\n",
    "    print('x_k        f(x_k)     f\"'\"(x_k)  f(x_k)/f\"'\"(x_k)')\n",
    "    while True:\n",
    "        n+=1\n",
    "        x1 = x0 - f(x0)/ff(x0)\n",
    "        print('%.5f    %.5f    %.5f   %.5f'%(x0, f(x0),ff(x0),f(x0)/ff(x0)))\n",
    "        if abs(x1-x0) < tol:\n",
    "            break\n",
    "        x0 = x1\n",
    "    print('After %i iterations, the solution is %.5f'%(n,x1))\n",
    "    x = np.linspace(-10, 10, 100000)\n",
    "    y = f(x)\n",
    "    fig = plt.figure()\n",
    "    ax = fig.add_subplot(111)\n",
    "    ax.set_title('The Newton method')\n",
    "    ax.plot(x, y,'k', label = 'The function')\n",
    "    ax.spines['left'].set_position('zero')\n",
    "    ax.spines['right'].set_color('none')\n",
    "    ax.spines['bottom'].set_position('zero')\n",
    "    ax.spines['top'].set_color('none')\n",
    "    ax.plot([x1], 0, marker=\"o\", markersize=7, markeredgecolor=\"r\", markerfacecolor=\"k\",label=\"The zero\")\n",
    "    ax.set_ylim((-20,20))\n",
    "    ax.legend()\n",
    "    # remove the ticks from the top and right edges\n",
    "    ax.xaxis.set_ticks_position('bottom')\n",
    "    ax.yaxis.set_ticks_position('left')\n",
    "x0 = 2\n",
    "tol = 10**-5\n",
    "newton1(x0, tol,lambda x:np.exp(x)+2**(-x)+2*np.cos(x)-6, lambda x: np.exp(x)-np.log(2)*2**(-x)-2*np.sin(x))"
   ]
  },
  {
   "cell_type": "markdown",
   "metadata": {},
   "source": [
    "### Part b):"
   ]
  },
  {
   "cell_type": "code",
   "execution_count": null,
   "metadata": {},
   "outputs": [],
   "source": [
    "def newton1(x0, tol,f,ff):\n",
    "    n=0\n",
    "    print('x_k        f(x_k)     f\"'\"(x_k)   f(x_k)/f\"'\"(x_k)')\n",
    "    while True:\n",
    "        n+=1\n",
    "        x1 = x0 - f(x0)/ff(x0)\n",
    "        print('%.5f    %.5f    %.5f   %.5f'%(x0, f(x0),ff(x0),f(x0)/ff(x0)))\n",
    "        if abs(x1-x0) < tol:\n",
    "            break\n",
    "        x0 = x1\n",
    "    print('After %i iterations, the solution is %.5f'%(n,x1))\n",
    "    x = np.linspace(1.000001, 10, 100000)\n",
    "    y = f(x)\n",
    "    fig = plt.figure()\n",
    "    ax = fig.add_subplot(111)\n",
    "    ax.set_title('The Newton method')\n",
    "    ax.plot(x, y,'k', label = 'The function')\n",
    "    ax.spines['left'].set_position('zero')\n",
    "    ax.spines['right'].set_color('none')\n",
    "    ax.spines['bottom'].set_position('zero')\n",
    "    ax.spines['top'].set_color('none')\n",
    "    ax.plot([x1], 0, marker=\"o\", markersize=7, markeredgecolor=\"r\", markerfacecolor=\"k\",label=\"The zero\")\n",
    "    ax.set_ylim((-20,20))\n",
    "    ax.legend()\n",
    "    # remove the ticks from the top and right edges\n",
    "    ax.xaxis.set_ticks_position('bottom')\n",
    "    ax.yaxis.set_ticks_position('left')\n",
    "x0 = 1.5\n",
    "tol = 10e-5\n",
    "newton1(x0, tol,lambda x:np.log(x-1)+np.cos(x-1), lambda x:1/(x-1)-np.sin(x-1))"
   ]
  },
  {
   "cell_type": "markdown",
   "metadata": {},
   "source": [
    "## Q3"
   ]
  },
  {
   "cell_type": "code",
   "execution_count": null,
   "metadata": {},
   "outputs": [],
   "source": [
    "import sympy as sym\n",
    "x,y=sym.symbols('x,y')\n",
    "f1 = x*y+x**2-y**3-1\n",
    "f2 = x+2*y-x*y**2-2\n",
    "netn=sym.lambdify((x,y),sym.Matrix([[x],[y]])-sym.Matrix([[f1.diff(x),f1.diff(y)],[f2.diff(x),f2.diff(y)]]).inv()@sym.Matrix([[f1],[f2]]))\n",
    "x0=0.34\n",
    "y0=0.5\n",
    "print(\"n      x         y\")\n",
    "for n in range(0,21,1):\n",
    "    s=np.array(netn(x0,y0))\n",
    "    x0=s[0].item()  \n",
    "    y0=s[1].item()\n",
    "    print(\"%i   %.5f   %.5f \"%(n,x0,y0))"
   ]
  }
 ],
 "metadata": {
  "language_info": {
   "name": "python"
  },
  "orig_nbformat": 4
 },
 "nbformat": 4,
 "nbformat_minor": 2
}
