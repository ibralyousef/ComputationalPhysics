{
 "cells": [
  {
   "cell_type": "code",
   "execution_count": null,
   "metadata": {},
   "outputs": [],
   "source": [
    "import psi4\n",
    "import numpy as np\n",
    "import datetime\n",
    "from scipy import linalg as splinalg"
   ]
  },
  {
   "cell_type": "code",
   "execution_count": null,
   "metadata": {},
   "outputs": [],
   "source": [
    "psi4.set_memory('500 MB')\n",
    "numpy_memory = 2\n",
    "psi4.core.set_output_file('output.dat', False)\n",
    "basis = 'sto-3g'\n",
    "psi4.set_options({'basis': basis,\n",
    "                  'scf_type': 'pk',\n",
    "                  'e_convergence': 1e-8})\n",
    "mol = psi4.geometry(\"\"\"\n",
    "O\n",
    "H 1 1.1\n",
    "H 1 1.1 2 104\n",
    "symmetry c1\n",
    "\"\"\")\n",
    "SCF_E_psi = psi4.energy('scf')\n",
    "psi4.core.clean()\n",
    "print(f\"The Hartree-Fock ground state energy of the water is: {SCF_E_psi:.6f} Eh\")"
   ]
  },
  {
   "cell_type": "code",
   "execution_count": null,
   "metadata": {},
   "outputs": [],
   "source": [
    "wfn = psi4.core.Wavefunction.build(mol, psi4.core.get_global_option('basis'))\n",
    "ndocc = wfn.nalpha()    #Number of doubly occupied orbitals\n",
    "nbf = wfn.basisset().nbf()\n",
    "mints = psi4.core.MintsHelper(wfn.basisset())   #Molecular integrals object\n",
    "S_matrix = mints.ao_overlap()\n",
    "S = np.asarray(S_matrix)\n",
    "#Testing for orthonormality\n",
    "def isBasisOrthonormal(S):\n",
    "    size_S = S.shape[0] \n",
    "    identity_matrix = np.eye(size_S) \n",
    "    orthonormal_check = np.allclose(S, identity_matrix)\n",
    "    print(F'Q:(T/F) The AO basis is orthonormal? A: {orthonormal_check}')\n",
    "    return orthonormal_check\n",
    "A = splinalg.sqrtm(np.linalg.inv(S))    #A=S^-1/2\n",
    "S_p = A.dot(S.dot(A))   #S'=ASA\n",
    "T = np.asarray(mints.ao_kinetic())\n",
    "V = np.asarray(mints.ao_potential())\n",
    "H = T + V\n",
    "F_p = A.dot(H.dot(A))   #Initial guess of F = Core hamiltonian\n",
    "vals, vecs = np.linalg.eigh(F_p)    #Solve HFR to get C\n",
    "C=A.dot(vecs)\n",
    "C_occ = C[:, :ndocc]\n",
    "D = np.einsum('pi,qi->pq',C_occ ,C_occ )    #Using einsum to compute D, J, K\n",
    "I = np.asarray(mints.ao_eri())\n",
    "J = np.einsum('rs,pqrs->pq',D,I )\n",
    "K = np.einsum('rq,pqrs->ps',D,I )\n",
    "F = H + 2*J - K\n",
    "isBasisOrthonormal(S_p)"
   ]
  },
  {
   "cell_type": "code",
   "execution_count": null,
   "metadata": {},
   "outputs": [],
   "source": [
    "start_time = datetime.datetime.now()\n",
    "# ==> Nuclear Repulsion Energy <==\n",
    "E_nuc = mol.nuclear_repulsion_energy()\n",
    "# ==> SCF Iterations <==\n",
    "SCF_E = 0.0\n",
    "E_old = 0.0\n",
    "MAXITER = 40\n",
    "E_conv = 1.0e-8\n",
    "print('==> Starting SCF Iterations <==\\n')\n",
    "# Begin Iterations\n",
    "for scf_iter in range(1, MAXITER + 1):\n",
    "    I = np.asarray(mints.ao_eri())\n",
    "    J = np.einsum('rs,pqrs->pq',D,I )\n",
    "    K = np.einsum('rq,pqrs->ps',D,I )\n",
    "    F = H + 2*J - K    \n",
    "    SCF_E = E_nuc + np.einsum('pq->',(H+F)*(D))\n",
    "    print(F'SCF Iteration {scf_iter}: Energy = {SCF_E:.8f} dE = {SCF_E - E_old:.8f}')\n",
    "    if (abs(SCF_E - E_old) < E_conv):\n",
    "        break\n",
    "    E_old = SCF_E\n",
    "    F_p=A.dot(F.dot(A))\n",
    "    vals, vecs = np.linalg.eigh(F_p)\n",
    "    C=A.dot(vecs)\n",
    "    C_occ = C[:, :ndocc]\n",
    "    D = np.einsum('pi,qi->pq',C_occ ,C_occ ) \n",
    "    if (scf_iter == MAXITER):\n",
    "        psi4.core.clean()\n",
    "        raise Exception(\"Maximum number of SCF iterations exceeded.\")\n",
    "# Post iterations\n",
    "print('\\nSCF converged.')\n",
    "print(F'Final RHF Energy: {SCF_E:.6f} [Eh]')\n",
    "end_time = datetime.datetime.now()\n",
    "print(\"This took %f seconds\" %(end_time-start_time).total_seconds())"
   ]
  }
 ],
 "metadata": {
  "interpreter": {
   "hash": "ef2cac78251ba5dd0141e3e6c05d2fdd622b64ca603ac05bee1a57eeaf86e9c2"
  },
  "kernelspec": {
   "display_name": "Python 3.8.12 ('p4env')",
   "language": "python",
   "name": "python3"
  },
  "language_info": {
   "codemirror_mode": {
    "name": "ipython",
    "version": 3
   },
   "file_extension": ".py",
   "mimetype": "text/x-python",
   "name": "python",
   "nbconvert_exporter": "python",
   "pygments_lexer": "ipython3",
   "version": "3.8.12"
  },
  "orig_nbformat": 4
 },
 "nbformat": 4,
 "nbformat_minor": 2
}
