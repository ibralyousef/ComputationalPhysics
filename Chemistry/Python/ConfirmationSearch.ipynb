{
 "cells": [
  {
   "cell_type": "markdown",
   "metadata": {},
   "source": [
    "# 14.1: Systematic search"
   ]
  },
  {
   "cell_type": "code",
   "execution_count": null,
   "metadata": {},
   "outputs": [],
   "source": [
    "import numpy as np\n",
    "from openbabel import openbabel as ob\n",
    "import nglview as nv\n",
    "import scipy\n",
    "mol = ob.OBMol()\n",
    "def to_pdb(infile,outfile):\n",
    "    conv = ob.OBConversion()\n",
    "    conv.SetInAndOutFormats(\"pdb\",\"pdb\")\n",
    "    conv.ReadFile(mol, infile)\n",
    "    conv.WriteFile(mol, outfile)\n",
    "to_pdb(\"alanine_dipeptide.pdb\",\"gg.pdb\")\n",
    "view = nv.show_structure_file(\"gg.pdb\")\n",
    "view.add_representation('label', labelType='serial', backgroundColor='black', showBackground=True)\n",
    "import scipy.ndimage as filters\n",
    "import scipy.ndimage as morphology\n",
    "def detect_local_minima(arr):\n",
    "    neighborhood = morphology.generate_binary_structure(len(arr.shape),2)\n",
    "    local_min = (filters.minimum_filter(arr, footprint=neighborhood)==arr)\n",
    "    background = (arr==0)\n",
    "    eroded_background = morphology.binary_erosion(\n",
    "        background, structure=neighborhood, border_value=1)\n",
    "    detected_minima = local_min ^ eroded_background\n",
    "    return np.where(detected_minima)\n",
    "def detect_local_maxima(arr):\n",
    "    neighborhood = morphology.generate_binary_structure(len(arr.shape),2)\n",
    "    local_max = (filters.maximum_filter(arr, footprint=neighborhood)==arr)\n",
    "    background = (arr==0)\n",
    "    eroded_background = morphology.binary_erosion(\n",
    "        background, structure=neighborhood, border_value=1)\n",
    "    detected_maxima = local_max ^ eroded_background\n",
    "    return np.where(detected_maxima)       \n",
    "\n",
    "view"
   ]
  },
  {
   "cell_type": "code",
   "execution_count": null,
   "metadata": {},
   "outputs": [],
   "source": [
    "#Systematic search\n",
    "%matplotlib ipympl\n",
    "import matplotlib.pyplot as plt\n",
    "from mpl_toolkits.mplot3d import Axes3D\n",
    "\n",
    "# Perform the systematic search\n",
    "torsions = [[5, 7, 9, 15], [7, 9, 15, 17]]\n",
    "\n",
    "# Generate a mesh of grid points for the two dihedral angles\n",
    "theta1 = np.linspace(-np.pi, np.pi, 361)\n",
    "theta2 = np.linspace(-np.pi, np.pi, 361)\n",
    "\n",
    "theta1, theta2 = np.meshgrid(theta1, theta2)\n",
    "energies = np.zeros_like(theta1)\n",
    "\n",
    "# Calculate the energy on the grid\n",
    "ff = ob.OBForceField_FindType(\"MMFF94\")\n",
    "for i in range(len(theta1)):\n",
    "    for j in range(len(theta2)):\n",
    "        mol.SetTorsion(*torsions[0], theta1[i, j])\n",
    "        mol.SetTorsion(*torsions[1], theta2[i, j])\n",
    "        ff.Setup(mol)\n",
    "        energies[i, j] = ff.Energy()\n",
    "min_energy = np.min(energies)\n",
    "energies -= min_energy\n",
    "\n",
    "fig = plt.figure()\n",
    "ax = fig.add_subplot(111, projection='3d')\n",
    "ax.plot_surface(theta1*180.0/np.pi, theta2*180.0/np.pi, np.log10(energies + 0.1)) # Avoid zero for log scale\n",
    "ax.set_zticklabels([])\n",
    "ax.set_xlabel(r'$\\phi (^\\circ)$')\n",
    "ax.set_ylabel(r'$\\psi (^\\circ)$')\n",
    "ax.set_zlabel('Energy')\n",
    "plt.show()"
   ]
  },
  {
   "cell_type": "code",
   "execution_count": null,
   "metadata": {},
   "outputs": [],
   "source": [
    "#Getting and printing local minima locations\n",
    "local_minima_locations = detect_local_minima(energies)\n",
    "print([local_minima_locations])"
   ]
  },
  {
   "cell_type": "markdown",
   "metadata": {},
   "source": [
    "### The Most prominent minima are:\n",
    "- $\\phi_1 =-75^\\circ$ and $\\psi_1 = 60^\\circ$\n",
    "- $\\phi_2 =-100^\\circ$ and $\\psi_2 =170^\\circ$"
   ]
  },
  {
   "cell_type": "code",
   "execution_count": null,
   "metadata": {},
   "outputs": [],
   "source": [
    "from IPython.display import display\n",
    "def to_pdb(infile,outfile):\n",
    "    conv = ob.OBConversion()\n",
    "    conv.SetInAndOutFormats(\"pdb\",\"pdb\")\n",
    "    conv.ReadFile(mol, infile)\n",
    "    mol.SetTorsion(*torsions[0], (-75/180)*np.pi)\n",
    "    mol.SetTorsion(*torsions[1], ((60)/180)*np.pi)\n",
    "    conv.WriteFile(mol, outfile)\n",
    "to_pdb(\"alanine_dipeptide.pdb\",\"gg.pdb\")\n",
    "view = nv.show_structure_file(\"gg.pdb\")\n",
    "from IPython.display import display\n",
    "def to_pdb(infile,outfile):\n",
    "    conv = ob.OBConversion()\n",
    "    conv.SetInAndOutFormats(\"pdb\",\"pdb\")\n",
    "    conv.ReadFile(mol, infile)\n",
    "    mol.SetTorsion(*torsions[0], ((-100)/180)*np.pi)\n",
    "    mol.SetTorsion(*torsions[1], ((170)/180)*np.pi)\n",
    "    conv.WriteFile(mol, outfile)\n",
    "to_pdb(\"alanine_dipeptide.pdb\",\"gg.pdb\")\n",
    "view2 = nv.show_structure_file(\"gg.pdb\")\n",
    "display(view)\n",
    "display(view2)\n",
    "\n"
   ]
  },
  {
   "cell_type": "markdown",
   "metadata": {},
   "source": [
    "# 14.2: MD"
   ]
  },
  {
   "cell_type": "code",
   "execution_count": null,
   "metadata": {},
   "outputs": [],
   "source": [
    "# Simulation\n",
    "from openmm.app import *\n",
    "from openmm import *\n",
    "from openmm.unit import *\n",
    "\n",
    "# Setup the simulation\n",
    "temperature = 298 # Kelvin\n",
    "pdb = PDBFile('system.pdb')\n",
    "forcefield = ForceField(\"amber14/protein.ff14SB.xml\", \"amber14/tip3p.xml\")\n",
    "system = forcefield.createSystem(pdb.topology, nonbondedMethod=PME,\n",
    "        nonbondedCutoff=1*nanometer)\n",
    "integrator = LangevinMiddleIntegrator(temperature*kelvin, 1/picosecond, 1*femtoseconds)\n",
    "simulation = Simulation(pdb.topology, system, integrator)\n",
    "simulation.context.setPositions(pdb.positions)\n",
    "simulation.minimizeEnergy()\n",
    "\n",
    "# Perform NVT simulation\n",
    "simulation.reporters.append(DCDReporter('NVT.dcd', 500)) # Store trajectory using the dcd binary format\n",
    "simulation.reporters.append(StateDataReporter(\"NVT.txt\", 500, time=True,\n",
    "        potentialEnergy=True, kineticEnergy=True, volume=True, density=True, temperature=True))\n",
    "simulation.step(5000)\n",
    "\n",
    "# Setting the pressure\n",
    "system.addForce(MonteCarloBarostat(1*bar, temperature*kelvin))\n",
    "state = simulation.context.getState(getPositions=True, getVelocities=True)\n",
    "simulation.context.reinitialize()\n",
    "simulation.context.setPositions(state.getPositions())\n",
    "simulation.context.setVelocities(state.getVelocities())\n",
    "\n",
    "# Perform NPT simulation\n",
    "simulation.reporters[0] = DCDReporter('NPT.dcd', 500)\n",
    "simulation.reporters[1] = StateDataReporter(\"NPT.txt\", 500, time=True,\n",
    "        potentialEnergy=True, kineticEnergy=True, volume=True, density=True, temperature=True)\n",
    "simulation.step(5000000)"
   ]
  },
  {
   "cell_type": "markdown",
   "metadata": {},
   "source": [
    "# 14.3: Trajectory Analysis"
   ]
  },
  {
   "cell_type": "code",
   "execution_count": null,
   "metadata": {},
   "outputs": [],
   "source": [
    "# First display the water box\n",
    "import nglview as nv\n",
    "import mdtraj as md\n",
    "water = md.load(\"system.pdb\")\n",
    "view = nv.show_mdtraj(water)\n",
    "view.add_representation(\"licorice\")\n",
    "view.parameters = {\"cameraType\": \"orthographic\"}\n",
    "view.center()\n",
    "view"
   ]
  },
  {
   "cell_type": "markdown",
   "metadata": {},
   "source": [
    "#### We can see the simulation stabilized after about $26$ frames, since we have about 10,000 frame. We will remove the first $100$ frame to be safe. This removal because of how far away the molecule from each other at the beginning, waiting until it disappears ensures stability of density and temperature"
   ]
  },
  {
   "cell_type": "code",
   "execution_count": null,
   "metadata": {},
   "outputs": [],
   "source": [
    "# Histo\n",
    "import mdtraj as md\n",
    "import matplotlib.pyplot as plt\n",
    "import numpy as np\n",
    "plt.figure()\n",
    "traj = md.load(\"NPT.dcd\", top=\"system.pdb\")\n",
    "traj = traj[100:] # Excludeing the first 100 frames from the trajectory\n",
    "phi = md.compute_dihedrals(traj, [[5, 7, 9, 15]])*180/np.pi\n",
    "phi = np.squeeze(phi)\n",
    "psi = md.compute_dihedrals(traj, [[7, 9, 15, 17]])*180/np.pi\n",
    "psi = np.squeeze(psi)\n",
    "plt.hist2d(phi, psi, bins=(110, 110), cmap=plt.cm.jet)\n",
    "plt.xlabel(r'$\\phi (^\\circ)$')\n",
    "plt.ylabel(r'$\\psi (^\\circ)$')\n",
    "plt.show()\n"
   ]
  },
  {
   "cell_type": "markdown",
   "metadata": {},
   "source": [
    "# 14.4: Comments\n",
    "We can see that the two results almost agrees to one of the prominent minima we got from MC ($\\phi_1 =-75^\\circ$ and $\\psi_1 = 60^\\circ$), the other minima exist in MC as well but were not prominent. So it is fair to say the results were consistent."
   ]
  }
 ],
 "metadata": {
  "interpreter": {
   "hash": "ef2cac78251ba5dd0141e3e6c05d2fdd622b64ca603ac05bee1a57eeaf86e9c2"
  },
  "kernelspec": {
   "display_name": "Python 3.8.12 ('p4env')",
   "language": "python",
   "name": "python3"
  },
  "language_info": {
   "codemirror_mode": {
    "name": "ipython",
    "version": 3
   },
   "file_extension": ".py",
   "mimetype": "text/x-python",
   "name": "python",
   "nbconvert_exporter": "python",
   "pygments_lexer": "ipython3",
   "version": "3.8.12"
  },
  "orig_nbformat": 4
 },
 "nbformat": 4,
 "nbformat_minor": 2
}
